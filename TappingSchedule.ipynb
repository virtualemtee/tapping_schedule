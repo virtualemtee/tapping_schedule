{
  "nbformat": 4,
  "nbformat_minor": 0,
  "metadata": {
    "colab": {
      "provenance": [],
      "authorship_tag": "ABX9TyMBl5cejGDGYqelrkQ6hF8k",
      "include_colab_link": true
    },
    "kernelspec": {
      "name": "python3",
      "display_name": "Python 3"
    },
    "language_info": {
      "name": "python"
    }
  },
  "cells": [
    {
      "cell_type": "markdown",
      "metadata": {
        "id": "view-in-github",
        "colab_type": "text"
      },
      "source": [
        "<a href=\"https://colab.research.google.com/github/virtualemtee/tapping_schedule/blob/main/TappingSchedule.ipynb\" target=\"_parent\"><img src=\"https://colab.research.google.com/assets/colab-badge.svg\" alt=\"Open In Colab\"/></a>"
      ]
    },
    {
      "cell_type": "code",
      "source": [
        "import pandas as pd\n",
        "from sklearn.model_selection import train_test_split\n",
        "from sklearn.ensemble import RandomForestClassifier\n",
        "from sklearn.preprocessing import LabelEncoder\n",
        "from sklearn.metrics import accuracy_score, classification_report, confusion_matrix\n",
        "from sklearn.pipeline import Pipeline\n",
        "from sklearn.preprocessing import StandardScaler\n",
        "import joblib\n",
        "import seaborn as sns\n",
        "import matplotlib.pyplot as plt\n",
        "\n",
        "# Load the pot data\n",
        "data = pd.read_excel(\"previousPCCL_TappingSchedule_Compiled.xlsx\")\n",
        "\n",
        "# Display initial data sample\n",
        "print(\"Data Sample:\")\n",
        "print(data.head())\n",
        "\n",
        "# Preprocess the data\n",
        "# Step 1: Handle missing values (in case any key features are missing)\n",
        "data = data.dropna(subset=['Pot1_Si', 'Pot1_Fe', 'Pot2_Si', 'Pot2_Fe', 'Grade'])\n",
        "\n",
        "# Step 2: Encode labels for grades\n",
        "label_encoder = LabelEncoder()\n",
        "data['grade_encoded'] = label_encoder.fit_transform(data['Grade'].astype(str))  # Ensure grades are string\n",
        "\n",
        "# Features and target\n",
        "X = data[['Pot1_Si', 'Pot1_Fe', 'Pot2_Si', 'Pot2_Fe', 'Avg_Si', 'Avg_Fe']]\n",
        "y = data['grade_encoded']\n",
        "\n",
        "# Step 3: Split data into training and testing sets\n",
        "X_train, X_test, y_train, y_test = train_test_split(X, y, test_size=0.2, random_state=42)\n",
        "\n",
        "# Step 4: Build a machine learning pipeline\n",
        "pipeline = Pipeline([\n",
        "    ('scaler', StandardScaler()),         # Standardizes features\n",
        "    ('classifier', RandomForestClassifier(n_estimators=100, random_state=42))  # Model\n",
        "])\n",
        "\n",
        "# Train the model\n",
        "pipeline.fit(X_train, y_train)\n",
        "\n",
        "# Predict on the test set\n",
        "y_pred = pipeline.predict(X_test)\n",
        "\n",
        "# Step 5: Evaluate the model\n",
        "# Accuracy\n",
        "accuracy = accuracy_score(y_test, y_pred)\n",
        "print(f\"Model Accuracy: {accuracy:.2f}\")\n",
        "\n",
        "# Get unique labels from y_test\n",
        "unique_labels = y_test.unique()\n",
        "\n",
        "# Classification report\n",
        "print(\"Classification Report:\")\n",
        "print(\n",
        "    classification_report(\n",
        "        y_test,\n",
        "        y_pred,\n",
        "        labels=unique_labels,  # Use unique labels from y_test\n",
        "        target_names=label_encoder.inverse_transform(unique_labels),  # Decode the labels for display\n",
        "        zero_division=0  # Avoids warnings for undefined metrics\n",
        "    )\n",
        ")\n",
        "\n",
        "# Step 6: Confusion Matrix\n",
        "conf_matrix = confusion_matrix(y_test, y_pred)\n",
        "\n",
        "# # Plotting the confusion matrix\n",
        "# plt.figure(figsize=(10, 7))\n",
        "# sns.heatmap(conf_matrix, annot=True, fmt='d', cmap='Blues', xticklabels=label_encoder.classes_, yticklabels=label_encoder.classes_)\n",
        "# plt.xlabel('Predicted')\n",
        "# plt.ylabel('True')\n",
        "# plt.title('Confusion Matrix')\n",
        "# plt.show()\n",
        "\n",
        "# Save the model and encoder for future use if needed\n",
        "joblib.dump(pipeline, \"pot_pairing_model.pkl\")\n",
        "joblib.dump(label_encoder, \"label_encoder.pkl\")\n"
      ],
      "metadata": {
        "colab": {
          "base_uri": "https://localhost:8080/"
        },
        "id": "2kShCRK9PIJN",
        "outputId": "a5e463ad-7636-4e0f-e8be-f1272dcca411"
      },
      "execution_count": null,
      "outputs": [
        {
          "output_type": "stream",
          "name": "stdout",
          "text": [
            "Data Sample:\n",
            "   Pot1_Si  Pot1_Fe  Pot2_Si  Pot2_Fe  Avg_Si  Avg_Fe  Grade\n",
            "0     0.01     0.01     0.01     0.01   0.010   0.010    303\n",
            "1     0.02     0.01     0.01     0.01   0.015   0.010    303\n",
            "2     0.02     0.02     0.01     0.01   0.015   0.015    303\n",
            "3     0.02     0.02     0.02     0.01   0.020   0.015    303\n",
            "4     0.02     0.02     0.02     0.02   0.020   0.020    303\n",
            "Model Accuracy: 0.99\n",
            "Classification Report:\n",
            "              precision    recall  f1-score   support\n",
            "\n",
            "        2050       1.00      1.00      1.00        81\n",
            "        1535       1.00      1.00      1.00        17\n",
            "         303       1.00      1.00      1.00         6\n",
            "         610       1.00      1.00      1.00         2\n",
            "        1020       1.00      1.00      1.00         3\n",
            "         506       0.00      0.00      0.00         1\n",
            "         404       0.50      1.00      0.67         1\n",
            "\n",
            "    accuracy                           0.99       111\n",
            "   macro avg       0.79      0.86      0.81       111\n",
            "weighted avg       0.99      0.99      0.99       111\n",
            "\n"
          ]
        },
        {
          "output_type": "execute_result",
          "data": {
            "text/plain": [
              "['label_encoder.pkl']"
            ]
          },
          "metadata": {},
          "execution_count": 21
        }
      ]
    },
    {
      "cell_type": "code",
      "source": [
        "import pandas as pd\n",
        "import joblib\n",
        "from sklearn.ensemble import RandomForestClassifier\n",
        "from sklearn.model_selection import train_test_split\n",
        "from sklearn.metrics import classification_report\n",
        "from itertools import combinations\n",
        "from sklearn.preprocessing import LabelEncoder\n",
        "\n",
        "# Load training data\n",
        "data = pd.read_excel('potline_data_updated.xlsx')\n",
        "\n",
        "# Function to assign grade based on Si and Fe values\n",
        "def assign_grade(si, fe):\n",
        "    if si <= 0.03 and fe <= 0.03:\n",
        "        return '0303'\n",
        "    elif si <= 0.04 and fe <= 0.04:\n",
        "        return '0404'\n",
        "    elif si <= 0.04 and fe <= 0.06:\n",
        "        return '0406'\n",
        "    elif si <= 0.05 and fe <= 0.06:\n",
        "        return '0506'\n",
        "    elif si <= 0.06 and fe <= 0.10:\n",
        "        return '0610'\n",
        "    elif si <= 0.10 and fe <= 0.20:\n",
        "        return '1020'\n",
        "    elif si <= 0.15 and fe <= 0.35:\n",
        "        return '1535'\n",
        "    elif si >= 0.15 or fe >= 0.35:\n",
        "        return '2050'\n",
        "    return None  # Fallback in case of unexpected values\n",
        "\n",
        "# Apply grading function to each row\n",
        "data['Grade'] = data.apply(lambda row: assign_grade(row['Si'], row['Fe']), axis=1)\n",
        "\n",
        "# Add room and section based on cell ID\n",
        "def get_room_section(cell_id):\n",
        "    if 1 <= cell_id <= 50:\n",
        "        room = 'A'\n",
        "        section = 1 if cell_id <= 25 else 2\n",
        "    else:\n",
        "        room = 'B'\n",
        "        section = 3 if cell_id <= 75 else 4\n",
        "    return room, section\n",
        "\n",
        "data[['Room', 'Section']] = data['Cell_ID'].apply(lambda x: pd.Series(get_room_section(x)))\n",
        "\n",
        "# Generate pair data with target labels\n",
        "pair_data = []\n",
        "for (cell1, row1), (cell2, row2) in combinations(data.iterrows(), 2):\n",
        "    if row1['Section'] == row2['Section']:  # Ensure cells are in the same section\n",
        "        avg_si = (row1['Si'] + row2['Si']) / 2\n",
        "        avg_fe = (row1['Fe'] + row2['Fe']) / 2\n",
        "        paired_grade = assign_grade(avg_si, avg_fe)\n",
        "        target_label = paired_grade  # Use the resultant grade as the target label\n",
        "        pair_data.append({\n",
        "            \"Cell_A\": row1['Cell_ID'], \"Cell_B\": row2['Cell_ID'],\n",
        "            \"Room\": row1['Room'], \"Section\": row1['Section'],\n",
        "            \"Avg_Si\": avg_si, \"Avg_Fe\": avg_fe,\n",
        "            \"Initial_Grade_A\": row1['Grade'], \"Initial_Grade_B\": row2['Grade'],\n",
        "            \"Paired_Grade\": target_label\n",
        "        })\n",
        "\n",
        "pair_df = pd.DataFrame(pair_data)\n",
        "\n",
        "# Prepare features and labels\n",
        "X = pair_df.drop(columns=['Paired_Grade', 'Cell_A', 'Cell_B', 'Initial_Grade_A', 'Initial_Grade_B'])  # Drop identifiers\n",
        "y = pair_df['Paired_Grade']\n",
        "\n",
        "# One-hot encode categorical columns\n",
        "X = pd.get_dummies(X, columns=['Room', 'Section'], drop_first=True)  # Convert 'Room' and 'Section' to numerical\n",
        "\n",
        "# Encode grades\n",
        "label_encoder = LabelEncoder()\n",
        "y_encoded = label_encoder.fit_transform(y)\n",
        "\n",
        "# Split data\n",
        "X_train, X_test, y_train, y_test = train_test_split(X, y_encoded, test_size=0.2, random_state=42)\n",
        "\n",
        "# Train the model\n",
        "model = RandomForestClassifier(n_estimators=100, random_state=42)\n",
        "model.fit(X_train, y_train)\n",
        "\n",
        "# Save model and label encoder\n",
        "joblib.dump(model, 'paired_model.pkl')\n",
        "joblib.dump(label_encoder, 'label_encoder.pkl')\n",
        "\n",
        "# Evaluate the model\n",
        "y_pred = model.predict(X_test)\n",
        "print(classification_report(y_test, y_pred, target_names=label_encoder.classes_))\n"
      ],
      "metadata": {
        "colab": {
          "base_uri": "https://localhost:8080/"
        },
        "id": "oj89h2JoVyfG",
        "outputId": "60b88044-1ba9-46a7-8ff2-1d999f5b0d5c"
      },
      "execution_count": null,
      "outputs": [
        {
          "output_type": "stream",
          "name": "stdout",
          "text": [
            "              precision    recall  f1-score   support\n",
            "\n",
            "        0303       1.00      1.00      1.00        26\n",
            "        0404       1.00      1.00      1.00        17\n",
            "        0406       1.00      1.00      1.00        30\n",
            "        0506       1.00      1.00      1.00        28\n",
            "        0610       1.00      1.00      1.00        31\n",
            "        1020       1.00      0.98      0.99        54\n",
            "        1535       0.95      1.00      0.97        35\n",
            "        2050       1.00      0.95      0.97        19\n",
            "\n",
            "    accuracy                           0.99       240\n",
            "   macro avg       0.99      0.99      0.99       240\n",
            "weighted avg       0.99      0.99      0.99       240\n",
            "\n"
          ]
        }
      ]
    },
    {
      "cell_type": "code",
      "source": [
        "import pandas as pd\n",
        "import numpy as np\n",
        "\n",
        "# Set a seed for reproducibility\n",
        "np.random.seed(42)\n",
        "\n",
        "# Define cell numbers from 1 to 100\n",
        "cells = np.arange(1, 101)\n",
        "\n",
        "# Generate random values for Si and Fe, adding some missing values to simulate offline cells\n",
        "si_values = np.random.uniform(0.02, 0.25, size=100)\n",
        "fe_values = np.random.uniform(0.02, 0.4, size=100)\n",
        "\n",
        "# Randomly assign some cells as offline by setting Si and Fe to NaN\n",
        "offline_cells = np.random.choice(cells, size=10, replace=False)\n",
        "si_values[offline_cells - 1] = np.nan\n",
        "fe_values[offline_cells - 1] = np.nan\n",
        "\n",
        "# Create DataFrame\n",
        "data = pd.DataFrame({\n",
        "    \"Cell\": cells,\n",
        "    \"Si\": si_values,\n",
        "    \"Fe\": fe_values\n",
        "})\n",
        "\n",
        "# Save to Excel file\n",
        "data.to_excel(\"sample_potline_data.xlsx\", index=False)\n",
        "\n",
        "print(\"Generated sample potline data with Si and Fe values.\")\n"
      ],
      "metadata": {
        "colab": {
          "base_uri": "https://localhost:8080/"
        },
        "id": "5cDD6Vu6-2ok",
        "outputId": "6d62bea4-16ce-4640-be99-434fc0c13c59"
      },
      "execution_count": null,
      "outputs": [
        {
          "output_type": "stream",
          "name": "stdout",
          "text": [
            "Generated sample potline data with Si and Fe values.\n"
          ]
        }
      ]
    }
  ]
}